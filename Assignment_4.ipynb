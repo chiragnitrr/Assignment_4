{
 "cells": [
  {
   "cell_type": "code",
   "execution_count": 1,
   "id": "35a88c31-dc7d-4e30-a25e-67d3156d4c69",
   "metadata": {},
   "outputs": [
    {
     "name": "stdout",
     "output_type": "stream",
     "text": [
      "[('Virat Kohli', 24936), ('Jack Kallis', 25534), ('Ricky Ponting', 27483), ('Sachin Tendulkar', 34357)]\n"
     ]
    }
   ],
   "source": [
    "# Q1. Create a python program to sort the given list of tuples based on integer value using a \n",
    "# lambda function. \n",
    "# [('Sachin Tendulkar', 34357), ('Ricky Ponting', 27483), ('Jack Kallis', 25534), ('Virat Kohli', 24936)]\n",
    "\n",
    "#Answer:\n",
    "\n",
    "l = [('Sachin Tendulkar', 34357), ('Ricky Ponting', 27483), ('Jack Kallis', 25534), ('Virat Kohli', 24936)]\n",
    "sorted_data = sorted(l, key = lambda x : x[1])\n",
    "print(sorted_data)"
   ]
  },
  {
   "cell_type": "code",
   "execution_count": 1,
   "id": "0568a5e4-174c-4e55-8303-0581d67022bd",
   "metadata": {},
   "outputs": [
    {
     "data": {
      "text/plain": [
       "[1, 4, 9, 16, 25, 36, 49, 64, 81, 100]"
      ]
     },
     "execution_count": 1,
     "metadata": {},
     "output_type": "execute_result"
    }
   ],
   "source": [
    "# Q2. Write a Python Program to find the squares of all the numbers in the given list of integers using \n",
    "# lambda and map functions.\n",
    "# [1, 2, 3, 4, 5, 6, 7, 8, 9, 10]\n",
    "\n",
    "# Answer:\n",
    "\n",
    "l = [1,2,3,4,5,6,7,8,9,10]\n",
    "list(map(lambda x : x**2,l))"
   ]
  },
  {
   "cell_type": "code",
   "execution_count": 4,
   "id": "848b07f5-f8c5-4ff8-9403-fa5f5dde5d6c",
   "metadata": {},
   "outputs": [
    {
     "data": {
      "text/plain": [
       "('1', '2', '3', '4', '5', '6', '7', '8', '9', '10')"
      ]
     },
     "execution_count": 4,
     "metadata": {},
     "output_type": "execute_result"
    }
   ],
   "source": [
    "# Q3. Write a python program to convert the given list of integers into a tuple of strings. Use map and \n",
    "# lambda functions\n",
    "# Given String: [1, 2, 3, 4, 5, 6, 7, 8, 9, 10]\n",
    "# Expected output: ('1', '2', '3', '4', '5', '6', '7', '8', '9', '10')\n",
    "\n",
    "#Answer:\n",
    "s = [1,2,3,4,5,6,7,8,9,10]\n",
    "tuple(map(lambda x : str(x), s))"
   ]
  },
  {
   "cell_type": "code",
   "execution_count": 7,
   "id": "25b62a96-72d7-48ad-ad78-01fcd943052b",
   "metadata": {},
   "outputs": [
    {
     "data": {
      "text/plain": [
       "15511210043330985984000000"
      ]
     },
     "execution_count": 7,
     "metadata": {},
     "output_type": "execute_result"
    }
   ],
   "source": [
    "# Q4.  Write a python program using reduce function to compute the product of a list containing numbers \n",
    "# from 1 to 25.\n",
    "\n",
    "l = []\n",
    "for i in range(1,26):\n",
    "    l.append(i)\n",
    "    \n",
    "from functools import reduce\n",
    "reduce(lambda x,y:x*y,l)"
   ]
  },
  {
   "cell_type": "code",
   "execution_count": 10,
   "id": "cfa443ca-d4fa-4c2d-af36-1f3e3b8f55bd",
   "metadata": {},
   "outputs": [
    {
     "data": {
      "text/plain": [
       "[6, 60, 90, 120]"
      ]
     },
     "execution_count": 10,
     "metadata": {},
     "output_type": "execute_result"
    }
   ],
   "source": [
    "# Q5. Write a python program to filter the numbers in a given list that are divisible by 2 and 3 using the \n",
    "# filter function.\n",
    "# [2, 3, 6, 9, 27, 60, 90, 120, 55, 46]\n",
    "\n",
    "#Answer :\n",
    "l = [2,3,6,9,27,60,90,120,55,46]\n",
    "list(filter(lambda x : x if x%2==0 and x%3==0 else None, l))"
   ]
  },
  {
   "cell_type": "code",
   "execution_count": 2,
   "id": "ac2c6251-303f-40b7-af7a-4acf93841882",
   "metadata": {},
   "outputs": [
    {
     "data": {
      "text/plain": [
       "['php', 'aba', 'radar']"
      ]
     },
     "execution_count": 2,
     "metadata": {},
     "output_type": "execute_result"
    }
   ],
   "source": [
    "# Q6. Write a python program to find palindromes in the given list of strings using lambda and filter \n",
    "# function.\n",
    "# ['python', 'php', 'aba', 'radar', 'level']\n",
    "\n",
    "#Answer :\n",
    "\n",
    "def is_palindrome(s):\n",
    "    n = len(s)\n",
    "    for i in range(n):\n",
    "        if s[i] != s[n-i-1] :\n",
    "            return False\n",
    "    return True\n",
    "\n",
    "l = ['python', 'php', 'aba', 'radar', 'Level']\n",
    "list(filter(lambda x : x if is_palindrome(x) else None,l))"
   ]
  },
  {
   "cell_type": "code",
   "execution_count": null,
   "id": "d1164d7a-2b0f-424f-8a26-b5f996e15a0d",
   "metadata": {},
   "outputs": [],
   "source": []
  }
 ],
 "metadata": {
  "kernelspec": {
   "display_name": "Python 3 (ipykernel)",
   "language": "python",
   "name": "python3"
  },
  "language_info": {
   "codemirror_mode": {
    "name": "ipython",
    "version": 3
   },
   "file_extension": ".py",
   "mimetype": "text/x-python",
   "name": "python",
   "nbconvert_exporter": "python",
   "pygments_lexer": "ipython3",
   "version": "3.10.8"
  }
 },
 "nbformat": 4,
 "nbformat_minor": 5
}
